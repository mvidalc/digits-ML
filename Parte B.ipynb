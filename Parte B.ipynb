{
 "cells": [
  {
   "cell_type": "markdown",
   "metadata": {},
   "source": [
    "# Clasificación de digitos escritos a mano\n",
    "\n",
    "## Código base para la resolución del Ejercicio Obligatorio de IA (Tema ML)\n",
    "\n",
    "(B) "
   ]
  },
  {
   "cell_type": "code",
   "execution_count": null,
   "metadata": {
    "collapsed": true
   },
   "outputs": [],
   "source": [
    "Comenzamos importando las librerias de Python y cargamos los datos"
   ]
  },
  {
   "cell_type": "code",
   "execution_count": 7,
   "metadata": {},
   "outputs": [],
   "source": [
    "# librerias Python\n",
    "import numpy as np\n",
    "import pandas as pd\n",
    "import matplotlib.pyplot as plt\n",
    "from sklearn.datasets import load_digits\n",
    "\n",
    "# cargamos los datos\n",
    "\n",
    "photosTra = pd.read_csv('https://archive.ics.uci.edu/ml/machine-learning-databases/optdigits/optdigits.tra')\n",
    "x2_train, y2_train = photosTra.iloc[:,:-1].values, photosTra.iloc[:,-1:].values\n",
    "photosTes = pd.read_csv('https://archive.ics.uci.edu/ml/machine-learning-databases/optdigits/optdigits.tes')\n",
    "x2_test, y2_test = photosTra.iloc[:,:-1].values, photosTra.iloc[:,-1:].values\n"
   ]
  },
  {
   "cell_type": "markdown",
   "metadata": {},
   "source": [
    "Para usar poder testear como bueno es nuestro clasificador dividimos nuestro conjunto de\n",
    "datos con dos subconjuntos:\n",
    "**entrenamiento y test.** \n",
    "En este ejemplo se escoge un test set de 1/3 de los datos, ya que hemos escogido la miscma cantidad para realizar el apartado anterior"
   ]
  },
  {
   "cell_type": "code",
   "execution_count": 3,
   "metadata": {},
   "outputs": [
    {
     "name": "stdout",
     "output_type": "stream",
     "text": [
      "True\n"
     ]
    }
   ],
   "source": [
    "from sklearn.model_selection import train_test_split\n",
    "\n",
    "x_train, x_test, y_train, y_test = train_test_split(x2_train, y2_train, test_size = 0.33, random_state = 50)\n",
    "\n",
    "# Debe cumplirse que la suma de los dos conjuntos sea el numero total de muestras.\n",
    "\n",
    "comprobacion = x_train.shape[0] + x_test.shape[0]\n",
    "\n",
    "print(comprobacion == x2_train.shape[0])"
   ]
  },
  {
   "cell_type": "markdown",
   "metadata": {},
   "source": [
    "Para el apartado B de esta entrega, aplicaremos sobre este nuevo dataset, los tres mismos modelos que hemos aplicado en el apartado anterior: regresión lineal, perceptrón y SVM.\n",
    "Luego, utilizaremos las metricas del cross validation para comparar con los resulados obtenidos anteriormente para ver como han variado con este dataset."
   ]
  },
  {
   "cell_type": "code",
   "execution_count": 9,
   "metadata": {},
   "outputs": [
    {
     "name": "stdout",
     "output_type": "stream",
     "text": [
      "Linear regression =  [0.94615385 0.97307692 0.94941634 0.96108949 0.98046875 0.98039216\n",
      " 0.94509804 0.96078431 0.97233202 0.92857143]\n",
      "Perceptron =  [0.91923077 0.91153846 0.89883268 0.89494163 0.95703125 0.96078431\n",
      " 0.94509804 0.92156863 0.94071146 0.90079365]\n",
      "SVM =  [0.93846154 0.93846154 0.94941634 0.96108949 0.94921875 0.96470588\n",
      " 0.95294118 0.94509804 0.98023715 0.94444444]\n"
     ]
    }
   ],
   "source": [
    "# importamos los modelos\n",
    "from sklearn.model_selection import cross_val_score\n",
    "from sklearn.linear_model import LogisticRegression\n",
    "from sklearn.linear_model import Perceptron\n",
    "from sklearn import svm\n",
    "\n",
    "LR = LogisticRegression(random_state = 0, solver ='lbfgs', multi_class ='multinomial')\n",
    "P = Perceptron(tol=1e-3, random_state = 0)\n",
    "SVM = svm.LinearSVC()\n",
    "\n",
    "scoresLR = cross_val_score(LR, x_train, y_train.ravel(), cv = 10)\n",
    "print(\"Linear regression = \",scoresLR)\n",
    "\n",
    "scoresP = cross_val_score(P, x_train, y_train.ravel(), cv = 10)\n",
    "print(\"Perceptron = \",scoresP)\n",
    "\n",
    "scoresSVM = cross_val_score(SVM, x_train, y_train.ravel(), cv = 10)\n",
    "print(\"SVM = \",scoresSVM)"
   ]
  },
  {
   "cell_type": "raw",
   "metadata": {},
   "source": [
    "Si realizamos la media de los valores que nos da el cross validation de cada modelo, vemos que no hay una diferencia notable entre los resultados de este dataset y el utilizado en el apartado anterior."
   ]
  }
 ],
 "metadata": {
  "kernelspec": {
   "display_name": "Python 3",
   "language": "python",
   "name": "python3"
  },
  "language_info": {
   "codemirror_mode": {
    "name": "ipython",
    "version": 3
   },
   "file_extension": ".py",
   "mimetype": "text/x-python",
   "name": "python",
   "nbconvert_exporter": "python",
   "pygments_lexer": "ipython3",
   "version": "3.7.0"
  }
 },
 "nbformat": 4,
 "nbformat_minor": 2
}
