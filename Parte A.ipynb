{
 "cells": [
  {
   "cell_type": "markdown",
   "metadata": {},
   "source": [
    "# Clasificación de digitos escritos a mano\n",
    "\n",
    "## Código base para la resolución del Ejercicio Obligatorio de IA (Tema ML)\n",
    "\n",
    "(c) Basado en el código inicial de Gabriel Moyà Alcover"
   ]
  },
  {
   "cell_type": "code",
   "execution_count": 1,
   "metadata": {
    "scrolled": true
   },
   "outputs": [],
   "source": [
    "# Librerias Python\n",
    "import numpy as np \n",
    "import matplotlib.pyplot as plt\n",
    "from sklearn.datasets import load_digits\n"
   ]
  },
  {
   "cell_type": "markdown",
   "metadata": {},
   "source": [
    "** Exploración inicial del dataset **"
   ]
  },
  {
   "cell_type": "code",
   "execution_count": 2,
   "metadata": {
    "scrolled": true
   },
   "outputs": [
    {
     "name": "stdout",
     "output_type": "stream",
     "text": [
      "* Nuestro conjunto de datos nos proporciona la siguiente información: \n",
      "['data', 'target', 'target_names', 'images', 'DESCR']\n",
      "* Tenemos  1797  imagenes, con  64  pixeles en cada una\n"
     ]
    }
   ],
   "source": [
    "# Cargamos el dataset y realizamos una exploración inicial de las muestras\n",
    "digits = load_digits() \n",
    "print(\"* Nuestro conjunto de datos nos proporciona la siguiente información: \")\n",
    "print(list(digits.keys()))\n",
    "print(\"* Tenemos \" , digits.data.shape[0], \" imagenes, con \", digits.data.shape[1], \" pixeles en cada una\")"
   ]
  },
  {
   "cell_type": "code",
   "execution_count": 3,
   "metadata": {
    "scrolled": true
   },
   "outputs": [
    {
     "data": {
      "image/png": "[encoded data removed]",
      "text/plain": [
       "<Figure size 432x288 with 1 Axes>"
      ]
     },
     "metadata": {
      "needs_background": "light"
     },
     "output_type": "display_data"
    }
   ],
   "source": [
    "# Vamos a enseñar un número aleatorio de nuestro dataset.\n",
    "# (Probar a ejecutar esta celda múltiples veces para ver diferentes números)\n",
    "\n",
    "rnd = np.random.randint(0, digits.data.shape[0]) #generam un nombre aleatori dins el rang\n",
    "numero = digits.target[rnd] # consultam la columna d'objectius\n",
    "\n",
    "#Generación de la imagen\n",
    "plt.figure()\n",
    "\n",
    "image = digits.data[rnd,:] #cogemos una fila del conjunto y la transformamos en una matriz 8x8\n",
    "fila_2_matrix = np.reshape(image, (8,8))\n",
    "\n",
    "plt.imshow(fila_2_matrix, cmap=plt.cm.gray)\n",
    "plt.title(numero)\n",
    "plt.show()"
   ]
  },
  {
   "cell_type": "code",
   "execution_count": 4,
   "metadata": {
    "scrolled": true
   },
   "outputs": [
    {
     "data": {
      "image/png": "[encoded data removed]",
      "text/plain": [
       "<Figure size 1440x288 with 5 Axes>"
      ]
     },
     "metadata": {
      "needs_background": "light"
     },
     "output_type": "display_data"
    }
   ],
   "source": [
    "# Visualización de los diferentes ejemplos que podemos encontrar \n",
    "plt.figure(figsize=(20,4))\n",
    "plt.clf()\n",
    "\n",
    "for index, (image, label) in enumerate(zip(digits.data[0:5], digits.target[0:5])):\n",
    "    plt.subplot(1, 5, index + 1)\n",
    "    plt.imshow(np.reshape(image, (8,8)), cmap=plt.cm.gray)\n",
    "    plt.title('%i\\n' % label, fontsize = 20)\n",
    "plt.show()"
   ]
  },
  {
   "cell_type": "markdown",
   "metadata": {},
   "source": [
    "Vamos a descubrir cuantas muestras de cada número tenemos en nuestro conjunto de datos, así sabremos si el dataset está equilibrado"
   ]
  },
  {
   "cell_type": "code",
   "execution_count": 5,
   "metadata": {
    "scrolled": true
   },
   "outputs": [
    {
     "data": {
      "image/png": "[encoded data removed]",
      "text/plain": [
       "<Figure size 432x288 with 1 Axes>"
      ]
     },
     "metadata": {
      "needs_background": "light"
     },
     "output_type": "display_data"
    },
    {
     "name": "stdout",
     "output_type": "stream",
     "text": [
      "[178 182 177 183 181 182 181 179 174 180]\n"
     ]
    }
   ],
   "source": [
    "contadors = np.zeros(10, dtype = np.uint8)\n",
    "\n",
    "for i in range(0,10):\n",
    "    llista = digits.target[digits.target == i]\n",
    "    contadors[i] = len(llista)\n",
    "\n",
    "# Función ad-hoc  de la libreria Numyp\n",
    "#unique, counts = np.unique(digits.target, return_counts=True)\n",
    "#dict(zip(unique, counts))\n",
    "\n",
    "plt.bar(range(10), contadors)\n",
    "plt.title(\"Número de elementos por clase\")\n",
    "plt.show()\n",
    "print(contadors)\n"
   ]
  },
  {
   "cell_type": "markdown",
   "metadata": {},
   "source": [
    "### **Clasificación automática**"
   ]
  },
  {
   "cell_type": "markdown",
   "metadata": {},
   "source": [
    "Para usar poder testear como bueno es nuestro clasificador dividimos nuestro conjunto de\n",
    "datos con dos subconjuntos: ** entrenamiento y test. **  En este ejemplo se escoge un test set de 1/3 de los datos, esta ** eleccion ** debeis hacerla vosotros."
   ]
  },
  {
   "cell_type": "code",
   "execution_count": 6,
   "metadata": {
    "scrolled": true
   },
   "outputs": [
    {
     "name": "stdout",
     "output_type": "stream",
     "text": [
      "(1203, 64)\n",
      "(594, 64)\n",
      "True\n"
     ]
    }
   ],
   "source": [
    "\n",
    "from sklearn.model_selection import train_test_split\n",
    "\n",
    "x_train, x_test, y_train, y_test = train_test_split(digits.data, digits.target, test_size=0.33, random_state=50)\n",
    "\n",
    "print(x_train.shape)\n",
    "print(x_test.shape)\n",
    "\n",
    "# Comprobar que la suma de los dos subconjuntos es el número de muestras total\n",
    "\n",
    "suma = x_train.shape[0] + x_test.shape[0]\n",
    "\n",
    "print(suma == digits.data.shape[0])"
   ]
  },
  {
   "cell_type": "markdown",
   "metadata": {},
   "source": [
    "Aplicar el modelo seleccionado, recordar que probaremos ** tres modelos ** diferentes\n",
    "\n",
    "[Logistic Regression](http://scikit-learn.org/stable/modules/generated/sklearn.linear_model.LogisticRegression.html)\n",
    "\n",
    "[Perceptron](http://scikit-learn.org/stable/modules/generated/sklearn.linear_model.Perceptron.html)\n",
    "\n",
    "[SVM](http://scikit-learn.org/stable/modules/svm.html)\n"
   ]
  },
  {
   "cell_type": "markdown",
   "metadata": {},
   "source": [
    "## Análisis de los resultados\n",
    "\n",
    "Emplear el módulo \"metrics\" para el análisis\n",
    "\n",
    "http://scikit-learn.org/stable/modules/model_evaluation.html#classification-metrics\n",
    "\n",
    "Para analizar los resultados usaremos tres métricas diferentes:\n",
    "    - Score\n",
    "    - Classification_report\n",
    "    - Matriz de confusión"
   ]
  },
  {
   "cell_type": "code",
   "execution_count": 48,
   "metadata": {
    "scrolled": true
   },
   "outputs": [
    {
     "name": "stdout",
     "output_type": "stream",
     "text": [
      "0.9579124579124579\n"
     ]
    }
   ],
   "source": [
    "# Ejemplo regresión logística\n",
    "\n",
    "from sklearn.linear_model import LogisticRegression\n",
    "\n",
    "clf = LogisticRegression(random_state=0, solver='lbfgs', multi_class='multinomial').fit(x_train, y_train)\n",
    "clf.predict(x_test[:2, :])\n",
    "clf.predict_proba(x_test[:2, :])\n",
    "y_outRL = clf.predict(x_test)\n",
    "score = clf.score(x_test, y_test)\n",
    "print(score)\n"
   ]
  },
  {
   "cell_type": "code",
   "execution_count": 49,
   "metadata": {},
   "outputs": [
    {
     "name": "stdout",
     "output_type": "stream",
     "text": [
      "0.9276094276094277\n"
     ]
    }
   ],
   "source": [
    "# Ejemplo Perceptron\n",
    "\n",
    "from sklearn.linear_model import Perceptron\n",
    "\n",
    "clf = Perceptron(tol=1e-3, random_state=0)\n",
    "clf.fit(x_train, y_train)\n",
    "y_outP = clf.predict(x_test)\n",
    "score = clf.score(x_test, y_test)\n",
    "print(score)\n"
   ]
  },
  {
   "cell_type": "code",
   "execution_count": 50,
   "metadata": {},
   "outputs": [
    {
     "name": "stdout",
     "output_type": "stream",
     "text": [
      "0.9427609427609428\n"
     ]
    }
   ],
   "source": [
    "# Ejemplo SVM\n",
    "\n",
    "from sklearn import svm\n",
    "\n",
    "svm = svm.LinearSVC()\n",
    "svm.fit(x_train, y_train)\n",
    "y_outSVM = svm.predict(x_test)\n",
    "score = svm.score(x_test, y_test)\n",
    "print(score)\n"
   ]
  },
  {
   "cell_type": "markdown",
   "metadata": {},
   "source": [
    "## Análisis de los resultados de Score\n",
    "\n",
    "Como podemos observar, el modelo de regresión logística es el que nos da un valor de Score más alto,\n",
    "seguido por el modelo SVM.\n"
   ]
  },
  {
   "cell_type": "code",
   "execution_count": 51,
   "metadata": {},
   "outputs": [
    {
     "name": "stdout",
     "output_type": "stream",
     "text": [
      "tabla de classification report para el modelo de Regresión Logística:\n",
      "\n",
      "\n",
      "             precision    recall  f1-score   support\n",
      "\n",
      "          0       1.00      0.97      0.99        71\n",
      "          1       0.93      0.92      0.93        61\n",
      "          2       0.98      1.00      0.99        61\n",
      "          3       0.98      0.92      0.95        51\n",
      "          4       0.95      0.97      0.96        59\n",
      "          5       0.96      0.90      0.93        58\n",
      "          6       0.98      1.00      0.99        60\n",
      "          7       0.98      0.98      0.98        62\n",
      "          8       0.91      0.92      0.92        53\n",
      "          9       0.89      0.98      0.93        58\n",
      "\n",
      "avg / total       0.96      0.96      0.96       594\n",
      "\n",
      "\n",
      "\n",
      "tabla de classification report para el modelo de Perceptrón:\n",
      "\n",
      "\n",
      "             precision    recall  f1-score   support\n",
      "\n",
      "          0       0.99      0.99      0.99        71\n",
      "          1       0.86      0.92      0.89        61\n",
      "          2       0.95      0.98      0.97        61\n",
      "          3       1.00      0.76      0.87        51\n",
      "          4       1.00      0.92      0.96        59\n",
      "          5       0.85      0.95      0.89        58\n",
      "          6       0.90      1.00      0.94        60\n",
      "          7       0.97      0.95      0.96        62\n",
      "          8       0.85      0.89      0.87        53\n",
      "          9       0.94      0.88      0.91        58\n",
      "\n",
      "avg / total       0.93      0.93      0.93       594\n",
      "\n",
      "\n",
      "\n",
      "tabla de classification report para el modelo de SVM:\n",
      "\n",
      "\n",
      "             precision    recall  f1-score   support\n",
      "\n",
      "          0       0.97      0.99      0.98        71\n",
      "          1       0.94      0.84      0.89        61\n",
      "          2       1.00      0.98      0.99        61\n",
      "          3       0.98      0.88      0.93        51\n",
      "          4       0.97      0.97      0.97        59\n",
      "          5       1.00      0.91      0.95        58\n",
      "          6       0.98      1.00      0.99        60\n",
      "          7       0.97      0.97      0.97        62\n",
      "          8       0.77      0.94      0.85        53\n",
      "          9       0.87      0.93      0.90        58\n",
      "\n",
      "avg / total       0.95      0.94      0.94       594\n",
      "\n"
     ]
    }
   ],
   "source": [
    "# Comparación de los resultados de classification_report\n",
    "\n",
    "from sklearn.metrics import classification_report\n",
    "\n",
    "print(\"tabla de classification report para el modelo de Regresión Logística:\")\n",
    "print(\"\\n\")\n",
    "reportLR = classification_report(y_test,y_outRL)\n",
    "print(reportLR)\n",
    "print(\"\\n\")\n",
    "\n",
    "print(\"tabla de classification report para el modelo de Perceptrón:\")\n",
    "print(\"\\n\")\n",
    "reportP = classification_report(y_test,y_outP)\n",
    "print(reportP)\n",
    "print(\"\\n\")\n",
    "\n",
    "print(\"tabla de classification report para el modelo de SVM:\")\n",
    "print(\"\\n\")\n",
    "reportSVM = classification_report(y_test,y_outSVM)\n",
    "print(reportSVM)"
   ]
  },
  {
   "cell_type": "markdown",
   "metadata": {},
   "source": [
    "## Análisis de los resultados de Classification Report\n",
    "\n",
    "Una vez analizadas las tablas, vemos que el modelo de regresión lineal sigue siendo el que nos da\n",
    "un porcentaje de precisión más alto, seguido muy de cerca por el modelo SVM y finalmente el modelo\n",
    "de perceptrón es el que nos da los valores más bajos."
   ]
  },
  {
   "cell_type": "code",
   "execution_count": 52,
   "metadata": {},
   "outputs": [
    {
     "name": "stdout",
     "output_type": "stream",
     "text": [
      "matriz de confusión para el modelo de Regresión Logística:\n",
      "\n",
      "\n",
      "[[69  0  0  0  1  0  1  0  0  0]\n",
      " [ 0 56  0  0  2  0  0  0  2  1]\n",
      " [ 0  0 61  0  0  0  0  0  0  0]\n",
      " [ 0  0  1 47  0  1  0  0  1  1]\n",
      " [ 0  1  0  0 57  0  0  1  0  0]\n",
      " [ 0  0  0  1  0 52  0  0  1  4]\n",
      " [ 0  0  0  0  0  0 60  0  0  0]\n",
      " [ 0  0  0  0  0  0  0 61  0  1]\n",
      " [ 0  3  0  0  0  1  0  0 49  0]\n",
      " [ 0  0  0  0  0  0  0  0  1 57]]\n",
      "\n",
      "\n",
      "matriz de confusión para el modelo de Perceptrón:\n",
      "\n",
      "\n",
      "[[70  0  0  0  0  1  0  0  0  0]\n",
      " [ 0 56  0  0  0  0  2  0  2  1]\n",
      " [ 0  1 60  0  0  0  0  0  0  0]\n",
      " [ 0  2  3 39  0  4  0  1  1  1]\n",
      " [ 0  1  0  0 54  0  3  1  0  0]\n",
      " [ 1  1  0  0  0 55  1  0  0  0]\n",
      " [ 0  0  0  0  0  0 60  0  0  0]\n",
      " [ 0  0  0  0  0  2  0 59  0  1]\n",
      " [ 0  3  0  0  0  2  1  0 47  0]\n",
      " [ 0  1  0  0  0  1  0  0  5 51]]\n",
      "\n",
      "\n",
      "matriz de confusión para el modelo de SVM:\n",
      "\n",
      "\n",
      "[[70  0  0  0  0  0  0  0  1  0]\n",
      " [ 0 51  0  0  1  0  0  0  8  1]\n",
      " [ 0  1 60  0  0  0  0  0  0  0]\n",
      " [ 1  0  0 45  0  0  0  2  3  0]\n",
      " [ 0  1  0  0 57  0  0  0  0  1]\n",
      " [ 0  0  0  0  0 53  1  0  1  3]\n",
      " [ 0  0  0  0  0  0 60  0  0  0]\n",
      " [ 0  0  0  0  0  0  0 60  0  2]\n",
      " [ 0  1  0  0  1  0  0  0 50  1]\n",
      " [ 1  0  0  1  0  0  0  0  2 54]]\n"
     ]
    }
   ],
   "source": [
    "# Comparación de los resultados de la matriz de confusión\n",
    "\n",
    "from sklearn.metrics import confusion_matrix\n",
    "\n",
    "print(\"matriz de confusión para el modelo de Regresión Logística:\")\n",
    "print(\"\\n\")\n",
    "confusionLR = confusion_matrix(y_test,y_outRL)\n",
    "print(confusionLR)\n",
    "print(\"\\n\")\n",
    "\n",
    "print(\"matriz de confusión para el modelo de Perceptrón:\")\n",
    "print(\"\\n\")\n",
    "confusionP = confusion_matrix(y_test,y_outP)\n",
    "print(confusionP)\n",
    "print(\"\\n\")\n",
    "\n",
    "print(\"matriz de confusión para el modelo de SVM:\")\n",
    "print(\"\\n\")\n",
    "confusionSVM = confusion_matrix(y_test,y_outSVM)\n",
    "print(confusionSVM)"
   ]
  },
  {
   "cell_type": "markdown",
   "metadata": {},
   "source": [
    "## Análisis de los resultados de la matriz de confusión\n",
    "\n",
    "Para analizar estas matrices debemos fijarnos en los numeros que aparezcen en la diagonal, estos nos indican las veces que el modelo ha acertado analizando el numero, mientras que los valores dispersos, indican las veces que el modelo ha dado un resultado erroneo.\n",
    "\n",
    "Comparando las tres matrices, vemos que el modelo de regresión lineal es el que más casos ha acertado, y por consiguiente el que menos valores tiene fuera de la diagonal. El modelo SVM es el segundo modelo que mejores resultados muestra en la matriz, y finalmente el modelo que mas veces se ha equivocado es el perceptrón."
   ]
  },
  {
   "cell_type": "markdown",
   "metadata": {},
   "source": [
    "## Conclusión\n",
    "\n",
    "Tras comparar las tres metricas de cada modelo, vemos que en todos los casos el modelo de regresión lineal es el que mejor resultados da en los tres casos, por tanto es el que deberíamos aplicar como método de aprendizaje."
   ]
  },
  {
   "cell_type": "code",
   "execution_count": 53,
   "metadata": {
    "scrolled": true
   },
   "outputs": [],
   "source": [
    "# Ejemplo de función sencilla para comparar y_out con y_test directamente\n",
    "\n",
    "def medidas(y_actual, y_comp):\n",
    "    positius = 0\n",
    "    negatius = 0\n",
    "\n",
    "    for i in range(len(y_comp)): \n",
    "        if y_actual[i]==y_comp[i]:\n",
    "            positius += 1\n",
    "        else:\n",
    "            negatius += 1\n",
    "\n",
    "    return positius, negatius\n",
    "\n"
   ]
  },
  {
   "cell_type": "code",
   "execution_count": 54,
   "metadata": {
    "scrolled": true
   },
   "outputs": [
    {
     "name": "stdout",
     "output_type": "stream",
     "text": [
      "El nuestro ratio de aciertos es:  92.76094276094277 %\n"
     ]
    }
   ],
   "source": [
    "p, n = medidas(y_test, y_out)\n",
    "\n",
    "ratio_ = p / len(y_test)\n",
    "print(\"El nuestro ratio de aciertos es: \", ratio_ *  100, \"%\")"
   ]
  },
  {
   "cell_type": "code",
   "execution_count": 55,
   "metadata": {
    "scrolled": true
   },
   "outputs": [
    {
     "data": {
      "text/plain": [
       "array([[70,  0,  0,  0,  0,  1,  0,  0,  0,  0],\n",
       "       [ 0, 56,  0,  0,  0,  0,  2,  0,  2,  1],\n",
       "       [ 0,  1, 60,  0,  0,  0,  0,  0,  0,  0],\n",
       "       [ 0,  2,  3, 39,  0,  4,  0,  1,  1,  1],\n",
       "       [ 0,  1,  0,  0, 54,  0,  3,  1,  0,  0],\n",
       "       [ 1,  1,  0,  0,  0, 55,  1,  0,  0,  0],\n",
       "       [ 0,  0,  0,  0,  0,  0, 60,  0,  0,  0],\n",
       "       [ 0,  0,  0,  0,  0,  2,  0, 59,  0,  1],\n",
       "       [ 0,  3,  0,  0,  0,  2,  1,  0, 47,  0],\n",
       "       [ 0,  1,  0,  0,  0,  1,  0,  0,  5, 51]], dtype=int64)"
      ]
     },
     "execution_count": 55,
     "metadata": {},
     "output_type": "execute_result"
    }
   ],
   "source": [
    "# Otra manera de hacerlo es con la matriz de confusión que nos da una visión más general de lo que está pasando.\n",
    "\n",
    "from sklearn.metrics import confusion_matrix\n",
    "conf = confusion_matrix(y_test, y_out)\n",
    "\n",
    "conf"
   ]
  },
  {
   "cell_type": "markdown",
   "metadata": {},
   "source": [
    "![Caption for the picture.](https://i.stack.imgur.com/AuTKP.png)"
   ]
  },
  {
   "cell_type": "markdown",
   "metadata": {},
   "source": [
    "** Nota: ** para el análisis puede ser interesante ver ejemplos de las malas clasificaciones de nuestro modelo"
   ]
  },
  {
   "cell_type": "code",
   "execution_count": 56,
   "metadata": {
    "scrolled": true
   },
   "outputs": [
    {
     "data": {
      "image/png": "[encoded data removed]",
      "text/plain": [
       "<Figure size 432x288 with 1 Axes>"
      ]
     },
     "metadata": {
      "needs_background": "light"
     },
     "output_type": "display_data"
    }
   ],
   "source": [
    "diferencias = np.where(y_test != y_out)\n",
    "diferencias\n",
    "plt.figure()\n",
    "\n",
    "idx = diferencias[0][10]\n",
    "\n",
    "image = digits.data[idx, :] #agafam una fila del dataset i la transformam en imatge\n",
    "fila_2_matrix = np.reshape(image, (8,8))\n",
    "\n",
    "plt.imshow(fila_2_matrix, cmap=plt.cm.gray)\n",
    "plt.title(\"La imagen es un \" + str(y_test[idx]) + \" y lo clasifica como \" + str(y_out[idx]))\n",
    "plt.show()"
   ]
  },
  {
   "cell_type": "code",
   "execution_count": null,
   "metadata": {
    "scrolled": true
   },
   "outputs": [],
   "source": []
  },
  {
   "cell_type": "code",
   "execution_count": null,
   "metadata": {},
   "outputs": [],
   "source": []
  }
 ],
 "metadata": {
  "kernelspec": {
   "display_name": "Python 3",
   "language": "python",
   "name": "python3"
  },
  "language_info": {
   "codemirror_mode": {
    "name": "ipython",
    "version": 3
   },
   "file_extension": ".py",
   "mimetype": "text/x-python",
   "name": "python",
   "nbconvert_exporter": "python",
   "pygments_lexer": "ipython3",
   "version": "3.7.0"
  }
 },
 "nbformat": 4,
 "nbformat_minor": 2
}
